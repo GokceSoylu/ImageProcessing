{
 "cells": [
  {
   "cell_type": "markdown",
   "metadata": {},
   "source": [
    "convolution\n",
    "ayna görüntüsü\n",
    "border interpolate\n",
    "blur 1/9 3x3 1 lik matris \n",
    "sharpen\n",
    "cv2.filter2D\n",
    "interpolation\n",
    "histogram\n",
    "    renkli görüntüfr doğrudan hşstovramn kullanılmaz\n",
    "othsus tresholding\n",
    "\n",
    "\n",
    "kontür\n",
    "ince gri yap \n",
    "sonra siyah beyaz yapsonra konturşe (istediğn kısmın beyaz kalanı siyah yap)\n",
    "(next, Previous, first_child,parent)\n",
    "\n",
    "\n",
    "tree - list external\n",
    "sadece dışla ilgileniyosan external\n",
    "içiyle ilgileniyosan o zaman tree kullanılırdın \n",
    "ccomp içten dışa doğru gider\n",
    "\n",
    "approx_none hepsini alır\n",
    "simpl eise sadece köş enoktalarını alır\n",
    "yani hocam tamamına ihtiyacın yoksa, nıne kullanılmaz\n",
    "\n",
    "\n",
    "(r+g+b) / 3 = gray so 0-255 arası olur\n",
    "\n",
    "\n",
    "\n",
    "! aralık vererek tresh uygulamak\n",
    "\n",
    "tresholda verdiğin iki değer aralıık sağlıyor\n",
    "tresh_ınv+tresh_otsu\n",
    "\n",
    "tresh trubh hariç siyah beyaz görüntü elde edersin. trunc da nasıl olur?"
   ]
  }
 ],
 "metadata": {
  "language_info": {
   "name": "python"
  }
 },
 "nbformat": 4,
 "nbformat_minor": 2
}
