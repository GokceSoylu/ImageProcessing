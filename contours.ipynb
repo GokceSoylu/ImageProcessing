{
 "cells": [
  {
   "cell_type": "markdown",
   "metadata": {},
   "source": [
    "# Contours\n",
    "\n",
    "bunun için iki method kullanılır. findContours ve drawContpurs metodları\n",
    "\n",
    "* contours, hierarchy = cv2.findContours(image, mode, method)\n",
    "\n",
    "Bu meted kontürleir bulmak için kullanılır. image vereceğimiz resim. bu görüntü tresh uygulanmış bir binary image olur\n",
    "mode bu kontür bulma modudur.\n",
    "* *  RETR_EXTERNAL sadece dış köntürleri bulur. \n",
    "* *  RETR_LIST tamamını bulur ama hiyerarşiye dikkat etmez\n",
    "* *  RETR_TREE tüm kobtürleir bulur ve hiyerarşiyi ağaç yapısında döndürür.\n",
    "\n",
    "countours : kontür noktalrının içeren bir liste\n",
    "\n",
    "hierarchy : kontürler arasındaki ilişkiyi belirten bir dizi. (iç içe vb)\n",
    "\n",
    "\n",
    "* cv2.drawContours(image, contours, contourIdx, color, thickness)\n",
    "\n",
    "image: Konturların çizileceği hedef görüntü. Bu, genellikle boş bir görüntü veya orijinal görüntü olabilir.\n",
    "\n",
    "contours: Çizilecek konturların listesi. findContours fonksiyonundan dönen contours değerini kullanabilirsiniz.\n",
    "\n",
    "contourIdx: Çizilecek konturun indeksini belirtir.\n",
    "* * -1: Tüm konturları çizer.\n",
    "* * Belirli bir indeks: Sadece o konturu çizer.\n",
    "\n",
    "color: Konturun rengi. BGR formatında bir renk belirtin (örneğin, yeşil için (0, 255, 0)).\n",
    "\n",
    "thickness: Konturun kalınlığı. Kalınlık değeri piksel cinsindendir.\n",
    "* * -1: Kontur içini doldurur.\n",
    "\n",
    "\n",
    "\n"
   ]
  },
  {
   "cell_type": "markdown",
   "metadata": {},
   "source": []
  }
 ],
 "metadata": {
  "language_info": {
   "name": "python"
  }
 },
 "nbformat": 4,
 "nbformat_minor": 2
}
